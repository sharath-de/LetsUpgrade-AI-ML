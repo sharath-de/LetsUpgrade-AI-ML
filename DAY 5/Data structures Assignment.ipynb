{
 "cells": [
  {
   "cell_type": "markdown",
   "metadata": {},
   "source": [
    "# QUESTION 1"
   ]
  },
  {
   "cell_type": "code",
   "execution_count": 1,
   "metadata": {},
   "outputs": [
    {
     "name": "stdout",
     "output_type": "stream",
     "text": [
      "3\n",
      "5\n",
      "7\n",
      "11\n",
      "13\n",
      "17\n",
      "19\n",
      "23\n",
      "29\n",
      "31\n",
      "37\n",
      "41\n",
      "43\n",
      "47\n",
      "53\n",
      "59\n",
      "61\n",
      "67\n",
      "71\n",
      "73\n"
     ]
    }
   ],
   "source": [
    "# Write a Python program to find the first 20 non-even prime natural numbers\n",
    "\n",
    "count = 0\n",
    "num = 2\n",
    "while count<20:\n",
    "    if num > 1:\n",
    "        for i in range(2,num):\n",
    "            if(num%i) == 0:\n",
    "                break;\n",
    "        else:\n",
    "            if (num%2)!=0 :\n",
    "                print(num)\n",
    "                count=count+1\n",
    "    num = num+1"
   ]
  },
  {
   "cell_type": "markdown",
   "metadata": {},
   "source": [
    "# QUESTION 2 :\n",
    "\n",
    "Write a Python program to implement 15 functions of string"
   ]
  },
  {
   "cell_type": "code",
   "execution_count": 4,
   "metadata": {},
   "outputs": [
    {
     "name": "stdout",
     "output_type": "stream",
     "text": [
      "['welcome', 'everyones', 'here']\n",
      "['w', 'lcom', ' ', 'v', 'ryon', 's h', 'r', '']\n"
     ]
    }
   ],
   "source": [
    "s = \"welcome everyones here\"\n",
    "\n",
    "# SPLIT FUNCTION\n",
    "str1 = s.split()\n",
    "print(str1)\n",
    "str2 = s.split('e')\n",
    "print(str2)"
   ]
  },
  {
   "cell_type": "code",
   "execution_count": 5,
   "metadata": {},
   "outputs": [
    {
     "name": "stdout",
     "output_type": "stream",
     "text": [
      "a,b,c,d\n"
     ]
    }
   ],
   "source": [
    "s = \"welcome everyones here\"\n",
    "\n",
    "# DELIMETER FUNCTION\n",
    "delimiter = \",\"\n",
    "str2 = delimiter.join(['a','b','c','d'])\n",
    "print(str2)"
   ]
  },
  {
   "cell_type": "code",
   "execution_count": 6,
   "metadata": {},
   "outputs": [
    {
     "name": "stdout",
     "output_type": "stream",
     "text": [
      "WELCOME EVERYONES HERE\n"
     ]
    }
   ],
   "source": [
    "s = \"welcome everyones here\"\n",
    "\n",
    "#TO UPPER\n",
    "print(s.upper())"
   ]
  },
  {
   "cell_type": "code",
   "execution_count": 7,
   "metadata": {},
   "outputs": [
    {
     "name": "stdout",
     "output_type": "stream",
     "text": [
      "3\n"
     ]
    }
   ],
   "source": [
    "s = \"welcome everyones here\"\n",
    "\n",
    "#INDEX\n",
    "print(s.index('c'))"
   ]
  },
  {
   "cell_type": "code",
   "execution_count": 8,
   "metadata": {},
   "outputs": [
    {
     "name": "stdout",
     "output_type": "stream",
     "text": [
      "False\n"
     ]
    }
   ],
   "source": [
    "s = \"welcome everyones here\"\n",
    "\n",
    "#ENDSWITH\n",
    "print(s.endswith(\"hi\"))"
   ]
  },
  {
   "cell_type": "code",
   "execution_count": 9,
   "metadata": {},
   "outputs": [
    {
     "name": "stdout",
     "output_type": "stream",
     "text": [
      "True\n"
     ]
    }
   ],
   "source": [
    "s = \"welcome everyones here\"\n",
    "\n",
    "#STARTSWITH\n",
    "print(s.startswith(\"welcome\"))"
   ]
  },
  {
   "cell_type": "code",
   "execution_count": null,
   "metadata": {},
   "outputs": [],
   "source": [
    "s = \"welcome everyones here\"\n",
    "\n",
    "#COUNT\n",
    "s1 = \"he was good and he was bad\"\n",
    "print(f'he occurs {s1.count(\"he\", 0, 20)}' )\n"
   ]
  },
  {
   "cell_type": "code",
   "execution_count": 10,
   "metadata": {},
   "outputs": [
    {
     "name": "stdout",
     "output_type": "stream",
     "text": [
      "wPlcomP PvPryonPs hPrP\n"
     ]
    }
   ],
   "source": [
    "s = \"welcome everyones here\"\n",
    "\n",
    "#TRANSLATION\n",
    "translation = s.maketrans('e', 'P')\n",
    "print(s.translate(translation))"
   ]
  },
  {
   "cell_type": "code",
   "execution_count": null,
   "metadata": {},
   "outputs": [],
   "source": [
    "s = \"welcome everyones here\"\n",
    "\n",
    "#ALNUMERIC\n",
    "s1 = \"hello123\"\n",
    "print(s1.isalnum())"
   ]
  },
  {
   "cell_type": "code",
   "execution_count": null,
   "metadata": {},
   "outputs": [],
   "source": [
    "s = \"welcome everyones here\"\n",
    "\n",
    "#FIND\n",
    "print(s.find('y'))"
   ]
  },
  {
   "cell_type": "code",
   "execution_count": 11,
   "metadata": {},
   "outputs": [
    {
     "name": "stdout",
     "output_type": "stream",
     "text": [
      "True\n",
      "False\n"
     ]
    }
   ],
   "source": [
    "s = \"welcome everyones here\"\n",
    "\n",
    "#DIGIT\n",
    "s1='23'\n",
    "s2='w2'\n",
    "print(s1.isdigit())\n",
    "print(s2.isdigit())"
   ]
  },
  {
   "cell_type": "code",
   "execution_count": 12,
   "metadata": {},
   "outputs": [
    {
     "name": "stdout",
     "output_type": "stream",
     "text": [
      "22\n"
     ]
    }
   ],
   "source": [
    "s = \"welcome everyones here\"\n",
    "\n",
    "#length\n",
    "print(len(s))"
   ]
  },
  {
   "cell_type": "code",
   "execution_count": 13,
   "metadata": {},
   "outputs": [
    {
     "name": "stdout",
     "output_type": "stream",
     "text": [
      "5\n"
     ]
    }
   ],
   "source": [
    "s = \"welcome everyones here\"\n",
    "\n",
    "#ASCII\n",
    "s1 = 5\n",
    "print(ascii(s1))\n"
   ]
  },
  {
   "cell_type": "code",
   "execution_count": 14,
   "metadata": {},
   "outputs": [
    {
     "name": "stdout",
     "output_type": "stream",
     "text": [
      "65\n"
     ]
    }
   ],
   "source": [
    "s = \"welcome everyones here\"\n",
    "\n",
    "#ORD\n",
    "print(ord('A'))"
   ]
  },
  {
   "cell_type": "code",
   "execution_count": 15,
   "metadata": {},
   "outputs": [
    {
     "name": "stdout",
     "output_type": "stream",
     "text": [
      "Come everyones here\n"
     ]
    }
   ],
   "source": [
    "#REPLACE FUNCTION\n",
    "str3 = s.replace('welcome', 'Come')\n",
    "print(str3)"
   ]
  },
  {
   "cell_type": "markdown",
   "metadata": {},
   "source": [
    "# QUESTION 3"
   ]
  },
  {
   "cell_type": "code",
   "execution_count": 22,
   "metadata": {},
   "outputs": [
    {
     "name": "stdout",
     "output_type": "stream",
     "text": [
      "Enter a string : gfg\n",
      "String is palindrome\n"
     ]
    }
   ],
   "source": [
    "# Write a Python program to check if the given number is a Palindrome or Anagram or None of them.\n",
    "# Display the message according to the user\n",
    "\n",
    "name = input((\"Enter a string : \"))\n",
    "if name == name[::-1]:\n",
    "    print(\"String is palindrome\")\n",
    "else:\n",
    "    print(\"Not a palindrome\")\n",
    "  \n",
    "  \n",
    "# About anagram since there is only one string, so wecant compare.... because we need two strings for anagram"
   ]
  },
  {
   "cell_type": "code",
   "execution_count": null,
   "metadata": {},
   "outputs": [],
   "source": []
  },
  {
   "cell_type": "markdown",
   "metadata": {},
   "source": [
    "# QUESTION 4"
   ]
  },
  {
   "cell_type": "code",
   "execution_count": 2,
   "metadata": {},
   "outputs": [
    {
     "name": "stdout",
     "output_type": "stream",
     "text": [
      "drdarshaningleaimltrainer\n"
     ]
    }
   ],
   "source": [
    "# Wrire a pythons user defined function that removes all the additional characters from the string and converts it finally to \n",
    "# lower case using built-in-lower(). eg : If the string is \"Dr Darshan Ingle@AI-ML Trainer\" , then the output be \"drdarshaningleaimltrainer\"\n",
    "\n",
    "a_string = \"Dr. Darshan Ingle@AI-ML Trainer\"\n",
    "alpha = \"\"\n",
    "for character in a_string:\n",
    "    if character.isalpha():\n",
    "        alpha += character\n",
    "print(alpha.lower())       "
   ]
  },
  {
   "cell_type": "markdown",
   "metadata": {},
   "source": [
    "# Another form of doing"
   ]
  },
  {
   "cell_type": "code",
   "execution_count": 3,
   "metadata": {},
   "outputs": [
    {
     "name": "stdout",
     "output_type": "stream",
     "text": [
      "Original String : Dr. Darshan ingle @AI-ML\n",
      "Resultant list is : DrDarshaningleAIML\n",
      "drdarshaningleaiml\n"
     ]
    }
   ],
   "source": [
    " bad_chars = [\"@\",\"-\",\".\",\" \"] \n",
    "\n",
    "  \n",
    "\n",
    "test_string = \"Dr. Darshan ingle @AI-ML\"\n",
    "\n",
    "  \n",
    "\n",
    "\n",
    "print (\"Original String : \" + test_string) \n",
    "\n",
    "  \n",
    "\n",
    "for i in bad_chars : \n",
    "\n",
    "    test_string = test_string.replace(i, '') \n",
    "\n",
    " \n",
    "print (\"Resultant list is : \" + str(test_string)) \n",
    "\n",
    "print(str(test_string).lower())"
   ]
  },
  {
   "cell_type": "code",
   "execution_count": null,
   "metadata": {},
   "outputs": [],
   "source": []
  }
 ],
 "metadata": {
  "kernelspec": {
   "display_name": "Python 3",
   "language": "python",
   "name": "python3"
  },
  "language_info": {
   "codemirror_mode": {
    "name": "ipython",
    "version": 3
   },
   "file_extension": ".py",
   "mimetype": "text/x-python",
   "name": "python",
   "nbconvert_exporter": "python",
   "pygments_lexer": "ipython3",
   "version": "3.7.6"
  }
 },
 "nbformat": 4,
 "nbformat_minor": 4
}
