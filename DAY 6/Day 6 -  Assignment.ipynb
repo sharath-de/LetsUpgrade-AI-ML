{
 "cells": [
  {
   "cell_type": "markdown",
   "metadata": {},
   "source": [
    "# QUESTION 1"
   ]
  },
  {
   "cell_type": "code",
   "execution_count": 2,
   "metadata": {},
   "outputs": [
    {
     "name": "stdout",
     "output_type": "stream",
     "text": [
      "john@google.com\n",
      "google\n"
     ]
    }
   ],
   "source": [
    "# Assuming that we have some email addresses in the \"username@companyname.com\" format, please write a program to print the company\n",
    "# name of a given email address. Both username and company name are composed of letters only\n",
    "\n",
    "email = input().split('@')\n",
    "print(email[1].split('.')[0])\n"
   ]
  },
  {
   "cell_type": "markdown",
   "metadata": {},
   "source": [
    "# QUESTION 2"
   ]
  },
  {
   "cell_type": "code",
   "execution_count": 3,
   "metadata": {},
   "outputs": [
    {
     "name": "stdout",
     "output_type": "stream",
     "text": [
      "without,hello,bag,world\n",
      "bag,hello,without,world,"
     ]
    }
   ],
   "source": [
    "# Write a program that accepts a comma-seperated sequence of wordsas input and prints the words in a comma seperated sequence \n",
    "# after sorting them alphabetically\n",
    "\n",
    "ls = list(map(str, input().split(',')))\n",
    "for i in sorted(ls):\n",
    "    print(i,end=',')"
   ]
  },
  {
   "cell_type": "markdown",
   "metadata": {},
   "source": [
    "# QUESTION  3\n",
    "\n",
    "Find the \"sets.ipynb\" in the same floder"
   ]
  },
  {
   "cell_type": "markdown",
   "metadata": {},
   "source": [
    "# QUESTION 4"
   ]
  },
  {
   "cell_type": "code",
   "execution_count": 4,
   "metadata": {},
   "outputs": [
    {
     "name": "stdout",
     "output_type": "stream",
     "text": [
      "1 2 4 6 3 7 8\n",
      "5\n"
     ]
    }
   ],
   "source": [
    "# Give a list of n-1 numbers ranging from 1 to n, your task is to find the missing number. There are no duplicates\n",
    "\n",
    "num = list(map(int, input().split()))\n",
    "num1 = list(range(1,len(num)+1))\n",
    "num = sorted(num)\n",
    "for i in range(len(num1)):\n",
    "    if num1[i] != num[i]:\n",
    "        print(num1[i])\n",
    "        break"
   ]
  },
  {
   "cell_type": "markdown",
   "metadata": {},
   "source": [
    "# QUESTION 5"
   ]
  },
  {
   "cell_type": "code",
   "execution_count": 5,
   "metadata": {},
   "outputs": [
    {
     "name": "stdout",
     "output_type": "stream",
     "text": [
      "12 24 35 24\n",
      "12 24 35 "
     ]
    }
   ],
   "source": [
    "# Write a givenlist L, write a program to print the list L after removing all duplicate values woth original order reversed\n",
    "\n",
    "L = set(map(int, input().split()))\n",
    "for i in sorted(L):\n",
    "    print(i,end=\" \")"
   ]
  },
  {
   "cell_type": "code",
   "execution_count": null,
   "metadata": {},
   "outputs": [],
   "source": []
  }
 ],
 "metadata": {
  "kernelspec": {
   "display_name": "Python 3",
   "language": "python",
   "name": "python3"
  },
  "language_info": {
   "codemirror_mode": {
    "name": "ipython",
    "version": 3
   },
   "file_extension": ".py",
   "mimetype": "text/x-python",
   "name": "python",
   "nbconvert_exporter": "python",
   "pygments_lexer": "ipython3",
   "version": "3.7.6"
  }
 },
 "nbformat": 4,
 "nbformat_minor": 4
}
