{
 "cells": [
  {
   "cell_type": "markdown",
   "metadata": {},
   "source": [
    "# QUESTION 1"
   ]
  },
  {
   "cell_type": "code",
   "execution_count": 7,
   "metadata": {},
   "outputs": [
    {
     "name": "stdout",
     "output_type": "stream",
     "text": [
      "Enter which operation would you like to perform ? : \n",
      "Enter any of these char for specific operation +,-,*,/ : *\n",
      "(2+5j) * (6-4j) : (32+22j)\n"
     ]
    }
   ],
   "source": [
    "# Research on whether addition,subtraction,multiplication,division,floor division and modulo operations be performed on complex numbers.\n",
    "# based on that implement a Python program to demonstrate these operations\n",
    "\n",
    "num1 = 2+5j\n",
    "num2 = 6-4j\n",
    "\n",
    "print(\"Enter which operation would you like to perform ? : \")\n",
    "ch = input(\"Enter any of these char for specific operation +,-,*,/ : \")\n",
    "\n",
    "answer = 0\n",
    "\n",
    "if ch == '+':\n",
    "    answer = num1 + num2\n",
    "elif ch == '-':\n",
    "    answer = num1 - num2\n",
    "elif ch == '*':\n",
    "    answer = num1 * num2    \n",
    "elif ch == '/':\n",
    "    answer = num1 / num2\n",
    "else:\n",
    "    print(\"operation cant be performed\")\n",
    "print(num1,ch,num2, \":\", answer)    "
   ]
  },
  {
   "cell_type": "markdown",
   "metadata": {},
   "source": [
    "# QUESTION 2 : Range function()"
   ]
  },
  {
   "cell_type": "markdown",
   "metadata": {},
   "source": [
    "# Research on range() functions and its parameters. Create a markdown cell and write in your own words.\n",
    "# Implement a small program of your choice on the same\n",
    "\n",
    "The range() function returns a sequence of numbers, it is used to perform for a specific number of times\n",
    "\n",
    "Syntax : range(start, stop, step)\n",
    "\n",
    "PARAMETERS :\n",
    "\n",
    "start = specifying at which position to start. \n",
    "\n",
    "stop =   specifying at which position to stop.\n",
    "\n",
    "step =  specifying the incrementation. \n"
   ]
  },
  {
   "cell_type": "markdown",
   "metadata": {},
   "source": [
    "# Program to print whole numbers using range()"
   ]
  },
  {
   "cell_type": "code",
   "execution_count": 1,
   "metadata": {},
   "outputs": [
    {
     "name": "stdout",
     "output_type": "stream",
     "text": [
      "0\n",
      "1\n",
      "2\n",
      "3\n",
      "4\n",
      "5\n",
      "6\n",
      "7\n",
      "8\n",
      "9\n"
     ]
    }
   ],
   "source": [
    "for i in range(10):\n",
    "    print(i)"
   ]
  },
  {
   "cell_type": "markdown",
   "metadata": {},
   "source": [
    "# QUESTION 3"
   ]
  },
  {
   "cell_type": "code",
   "execution_count": 1,
   "metadata": {},
   "outputs": [
    {
     "name": "stdout",
     "output_type": "stream",
     "text": [
      "First Number : 30\n",
      "Second Number : 6\n",
      "Division :  5.0\n"
     ]
    }
   ],
   "source": [
    " # Consider two numbers. Perform their subtraction and if the result of subtraction is greater than 25.\n",
    " # print their multiplication result else print their division result\n",
    "\n",
    "num1 = int(input(\"First Number : \"))\n",
    "num2 = int(input(\"Second Number : \"))\n",
    "\n",
    "result = num1 - num2\n",
    "if result  > 25:\n",
    "    print(\"Multiplication : \", num1 * num2)\n",
    "else:    \n",
    "    print(\"Division : \", num1 / num2)\n",
    "    "
   ]
  },
  {
   "cell_type": "markdown",
   "metadata": {},
   "source": [
    "# QUESTION 4 :\n",
    "\n",
    " IN THIS USER GIVES THE INPUT"
   ]
  },
  {
   "cell_type": "code",
   "execution_count": 18,
   "metadata": {},
   "outputs": [
    {
     "name": "stdout",
     "output_type": "stream",
     "text": [
      "98\n",
      "398\n",
      "2914\n",
      "2\n",
      "62\n"
     ]
    }
   ],
   "source": [
    "# Consider a list of 10 elements of integer values. If the number in the list is divisible by 2, print the result as\n",
    "# \"square og that number minus 2\"\n",
    "\n",
    "list = [10,20,37,43,54,37,2,5,8,99]\n",
    "for i in list :\n",
    "    if(i % 2 == 0):\n",
    "        print(i*i-2)"
   ]
  },
  {
   "cell_type": "markdown",
   "metadata": {},
   "source": [
    "# ANOTHER FORM OF QUESTION 4 :\n",
    "\n",
    "NO INPUT OF LIST IS GIVEN"
   ]
  },
  {
   "cell_type": "code",
   "execution_count": 2,
   "metadata": {},
   "outputs": [],
   "source": [
    "list = []\n",
    "i = 0\n",
    "while i>10:\n",
    "    p = int(input)\n",
    "    print(list.append(p))\n",
    "    i = i+1\n",
    "for i in list :\n",
    "    if(i % 2 == 0):\n",
    "        print(i*i-2)\n",
    "    "
   ]
  },
  {
   "cell_type": "markdown",
   "metadata": {},
   "source": [
    "# QUESTION 5 "
   ]
  },
  {
   "cell_type": "code",
   "execution_count": 21,
   "metadata": {},
   "outputs": [
    {
     "name": "stdout",
     "output_type": "stream",
     "text": [
      "10\n",
      "26\n",
      "74\n",
      "66\n"
     ]
    }
   ],
   "source": [
    "# Consider a list of 10 elements. Print all the elements in the list which are greater than 7 when that number is divided 2\n",
    "\n",
    "list = [2,4,6,10,15,17,26,74,97,66]\n",
    "for i in list :\n",
    "    if(i>7 and i%2==0) :\n",
    "        print(i)\n",
    "    "
   ]
  },
  {
   "cell_type": "markdown",
   "metadata": {},
   "source": [
    "# Another form of question 5:"
   ]
  },
  {
   "cell_type": "code",
   "execution_count": 26,
   "metadata": {},
   "outputs": [],
   "source": [
    "list = []\n",
    "i = 0\n",
    "while i>10:\n",
    "    p = int(input)\n",
    "    print(list.append(p))\n",
    "    i = i+1\n",
    "    for i in list :\n",
    "        if(i>7 and i%2==0) :\n",
    "            print(i)\n",
    "    "
   ]
  },
  {
   "cell_type": "code",
   "execution_count": null,
   "metadata": {},
   "outputs": [],
   "source": []
  }
 ],
 "metadata": {
  "kernelspec": {
   "display_name": "Python 3",
   "language": "python",
   "name": "python3"
  },
  "language_info": {
   "codemirror_mode": {
    "name": "ipython",
    "version": 3
   },
   "file_extension": ".py",
   "mimetype": "text/x-python",
   "name": "python",
   "nbconvert_exporter": "python",
   "pygments_lexer": "ipython3",
   "version": "3.7.6"
  }
 },
 "nbformat": 4,
 "nbformat_minor": 4
}
